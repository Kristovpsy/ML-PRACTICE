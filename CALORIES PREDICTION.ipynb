{
 "cells": [
  {
   "cell_type": "code",
   "execution_count": 1,
   "id": "e7a549c8",
   "metadata": {},
   "outputs": [],
   "source": [
    "import pandas as pd\n",
    "import matplotlib.pyplot as plt\n",
    "import seaborn as sns\n",
    "from scipy import stats\n"
   ]
  },
  {
   "cell_type": "code",
   "execution_count": 2,
   "id": "b4338d6f",
   "metadata": {},
   "outputs": [
    {
     "name": "stdout",
     "output_type": "stream",
     "text": [
      "<bound method NDFrame.head of         Unnamed: 0  Duration  Average_Pulse  Max_Pulse  Calorie_Burnage  \\\n",
      "0         Duration      1.00          -0.17       0.00             0.89   \n",
      "1    Average_Pulse     -0.17           1.00       0.79             0.02   \n",
      "2        Max_Pulse      0.00           0.79       1.00             0.20   \n",
      "3  Calorie_Burnage      0.89           0.02       0.20             1.00   \n",
      "4       Hours_Work     -0.12          -0.28      -0.27            -0.14   \n",
      "5      Hours_Sleep      0.07           0.03       0.09             0.08   \n",
      "\n",
      "   Hours_Work  Hours_Sleep  \n",
      "0       -0.12         0.07  \n",
      "1       -0.28         0.03  \n",
      "2       -0.27         0.09  \n",
      "3       -0.14         0.08  \n",
      "4        1.00        -0.14  \n",
      "5       -0.14         1.00  >\n"
     ]
    }
   ],
   "source": [
    "full_health_data = pd.read_csv(\"data.csv\", header=0, sep=\",\")\n",
    "print (full_health_data.head)"
   ]
  },
  {
   "cell_type": "code",
   "execution_count": 3,
   "id": "ae91a0c9",
   "metadata": {},
   "outputs": [
    {
     "name": "stdout",
     "output_type": "stream",
     "text": [
      "  Unnamed: 0  Duration  Average Pulse  Max Pulse  Calorie_Burnage  Hours Work  \\\n",
      "0      count    163.00         163.00     163.00           163.00      163.00   \n",
      "1       mean     64.26         107.72     134.23           382.37        4.39   \n",
      "2        std     42.99          14.63      16.40           274.23        3.92   \n",
      "3        min     15.00          80.00     100.00            50.00        0.00   \n",
      "4        25%     45.00         100.00     124.00           256.50        0.00   \n",
      "5        50%     60.00         105.00     131.00           320.00        5.00   \n",
      "6        75%     60.00         111.00     141.00           388.50        8.00   \n",
      "7        max    300.00         159.00     184.00          1860.00       11.00   \n",
      "\n",
      "   Hours Sleep  \n",
      "0       163.00  \n",
      "1         7.68  \n",
      "2         0.66  \n",
      "3         5.00  \n",
      "4         7.50  \n",
      "5         8.00  \n",
      "6         8.00  \n",
      "7        12.00  \n"
     ]
    }
   ],
   "source": [
    "health_data = pd.read_csv(\"health data.csv\", header=0, sep=\",\")\n",
    "\n",
    "print(health_data)"
   ]
  },
  {
   "cell_type": "code",
   "execution_count": 4,
   "id": "0eb8a5fb",
   "metadata": {},
   "outputs": [
    {
     "name": "stdout",
     "output_type": "stream",
     "text": [
      "<bound method NDFrame.head of   Unnamed: 0  Duration  Average Pulse  Max Pulse  Calorie_Burnage  Hours Work  \\\n",
      "0      count    163.00         163.00     163.00           163.00      163.00   \n",
      "1       mean     64.26         107.72     134.23           382.37        4.39   \n",
      "2        std     42.99          14.63      16.40           274.23        3.92   \n",
      "3        min     15.00          80.00     100.00            50.00        0.00   \n",
      "4        25%     45.00         100.00     124.00           256.50        0.00   \n",
      "5        50%     60.00         105.00     131.00           320.00        5.00   \n",
      "6        75%     60.00         111.00     141.00           388.50        8.00   \n",
      "7        max    300.00         159.00     184.00          1860.00       11.00   \n",
      "\n",
      "   Hours Sleep  \n",
      "0       163.00  \n",
      "1         7.68  \n",
      "2         0.66  \n",
      "3         5.00  \n",
      "4         7.50  \n",
      "5         8.00  \n",
      "6         8.00  \n",
      "7        12.00  >\n"
     ]
    }
   ],
   "source": [
    "health_data = pd.read_csv(\"health data.csv\", header=0, sep=\",\")\n",
    "\n",
    "print(health_data.head)"
   ]
  },
  {
   "cell_type": "code",
   "execution_count": 6,
   "id": "6637fd31",
   "metadata": {},
   "outputs": [
    {
     "name": "stdout",
     "output_type": "stream",
     "text": [
      "125\n"
     ]
    }
   ],
   "source": [
    "Average_pulse_max = max(80, 85, 90, 95, 100, 105, 110, 115, 120, 125)\n",
    "\n",
    "print (Average_pulse_max)"
   ]
  },
  {
   "cell_type": "code",
   "execution_count": 7,
   "id": "5a79824f",
   "metadata": {},
   "outputs": [
    {
     "name": "stdout",
     "output_type": "stream",
     "text": [
      "80\n"
     ]
    }
   ],
   "source": [
    "Average_pulse_min = min(80, 85, 90, 95, 100, 105, 110, 115, 120, 125)\n",
    "\n",
    "print (Average_pulse_min)"
   ]
  },
  {
   "cell_type": "code",
   "execution_count": 9,
   "id": "584b0415",
   "metadata": {},
   "outputs": [
    {
     "name": "stdout",
     "output_type": "stream",
     "text": [
      "283.55555555555554\n"
     ]
    }
   ],
   "source": [
    "import numpy as np\n",
    "Calorie_burnage = [240, 250, 260, 270 ,280 ,290, 311, 321,330]\n",
    " \n",
    "Average_Calorie_burnage  = np.mean(Calorie_burnage)\n",
    "\n",
    "print(Average_Calorie_burnage)"
   ]
  },
  {
   "cell_type": "code",
   "execution_count": 10,
   "id": "a7568fab",
   "metadata": {},
   "outputs": [
    {
     "name": "stdout",
     "output_type": "stream",
     "text": [
      "2.1\n"
     ]
    }
   ],
   "source": [
    "x1 = 80\n",
    "y1 = 240\n",
    "x2 = 90\n",
    "y2 = 261\n",
    "\n",
    "def slope(x1,y1,x2,y2):\n",
    "    s = (y2-y1)/(x2-x1)\n",
    "    return s\n",
    "\n",
    "print (slope(80, 240 ,90 ,261))"
   ]
  },
  {
   "cell_type": "code",
   "execution_count": 35,
   "id": "6e82b38e",
   "metadata": {},
   "outputs": [
    {
     "name": "stdout",
     "output_type": "stream",
     "text": [
      "2360\n"
     ]
    }
   ],
   "source": [
    "\n",
    "def my_function(x):\n",
    "  return 2*x + 80\n",
    "\n",
    "print (my_function(1140))\n"
   ]
  },
  {
   "cell_type": "code",
   "execution_count": 37,
   "id": "9ade8720",
   "metadata": {},
   "outputs": [
    {
     "data": {
      "image/png": "[encoded data removed]",
      "text/plain": [
       "<Figure size 640x480 with 1 Axes>"
      ]
     },
     "metadata": {},
     "output_type": "display_data"
    }
   ],
   "source": [
    "negative_corr = {'Hours_Work_Before_Training': [10,9,8,7,6,5,4,3,2,1],\n",
    "'Calorie_Burnage': [220,240,260,280,300,320,340,360,380,400]}\n",
    "negative_corr = pd.DataFrame(data=negative_corr)\n",
    "\n",
    "negative_corr.plot(x ='Hours_Work_Before_Training', y='Calorie_Burnage', kind='scatter')\n",
    "plt.show()"
   ]
  },
  {
   "cell_type": "code",
   "execution_count": 43,
   "id": "22abac24",
   "metadata": {},
   "outputs": [
    {
     "data": {
      "image/png": "[encoded data removed]",
      "text/plain": [
       "<Figure size 640x480 with 1 Axes>"
      ]
     },
     "metadata": {},
     "output_type": "display_data"
    },
    {
     "name": "stdout",
     "output_type": "stream",
     "text": [
      "                   Drowning_Accident  Ice_Cream_Sale\n",
      "Drowning_Accident                1.0             1.0\n",
      "Ice_Cream_Sale                   1.0             1.0\n"
     ]
    }
   ],
   "source": [
    "Drowning_Accident = [20,40,60,80,100,120,140,160,180,200]\n",
    "Ice_Cream_Sale = [20,40,60,80,100,120,140,160,180,200]\n",
    "Drowning = {\"Drowning_Accident\": [20,40,60,80,100,120,140,160,180,200],\n",
    "\"Ice_Cream_Sale\": [20,40,60,80,100,120,140,160,180,200]}\n",
    "Drowning = pd.DataFrame(data=Drowning)\n",
    "\n",
    "Drowning.plot(x=\"Ice_Cream_Sale\", y=\"Drowning_Accident\", kind=\"scatter\")\n",
    "plt.show()\n",
    "\n",
    "correlation_beach = Drowning.corr()\n",
    "print(correlation_beach)\n"
   ]
  },
  {
   "cell_type": "code",
   "execution_count": 46,
   "id": "1341e8ae",
   "metadata": {},
   "outputs": [
    {
     "data": {
      "image/png": "[encoded data removed]",
      "text/plain": [
       "<Figure size 640x480 with 1 Axes>"
      ]
     },
     "metadata": {},
     "output_type": "display_data"
    }
   ],
   "source": [
    "health_data = pd.read_csv(\"health data.csv\", header=0, sep=\",\")\n",
    "\n",
    "x = full_health_data[\"Average_Pulse\"]\n",
    "y = full_health_data [\"Calorie_Burnage\"]\n",
    "\n",
    "slope, intercept, r, p, std_err = stats.linregress(x, y)\n",
    "\n",
    "def myfunc(x):\n",
    " return slope * x + intercept\n",
    "\n",
    "mymodel = list(map(myfunc, x))\n",
    "\n",
    "plt.scatter(x, y)\n",
    "plt.plot(x, slope * x + intercept)\n",
    "plt.ylim(ymin=0, ymax=2000)\n",
    "plt.xlim(xmin=0, xmax=200)\n",
    "plt.xlabel(\"Average_Pulse\")\n",
    "plt.ylabel (\"Calorie_Burnage\")\n",
    "plt.show()"
   ]
  },
  {
   "cell_type": "code",
   "execution_count": 51,
   "id": "261543e9",
   "metadata": {},
   "outputs": [
    {
     "name": "stdout",
     "output_type": "stream",
     "text": [
      "[0.9861727392795256, -0.05873087036072147, 0.09309273103999821, 0.8879339383731777, -0.014076869948745088, 0.15560833161676513]\n"
     ]
    },
    {
     "data": {
      "image/png": "[encoded data removed]",
      "text/plain": [
       "<Figure size 640x480 with 1 Axes>"
      ]
     },
     "metadata": {},
     "output_type": "display_data"
    }
   ],
   "source": [
    "health_data = pd.read_csv(\"health data.csv\", header=0, sep=\",\")\n",
    "\n",
    "x = full_health_data[\"Duration\"]\n",
    "y = full_health_data [\"Calorie_Burnage\"]\n",
    "\n",
    "slope, intercept, r, p, std_err = stats.linregress(x, y)\n",
    "\n",
    "def myfunc(x):\n",
    " return slope * x + intercept\n",
    "\n",
    "mymodel = list(map(myfunc, x))\n",
    "\n",
    "print(mymodel)\n",
    "\n",
    "plt.scatter(x, y)\n",
    "plt.plot(x, mymodel)\n",
    "plt.ylim(ymin=0, ymax=2000)\n",
    "plt.xlim(xmin=0, xmax=200)\n",
    "plt.xlabel(\"Duration\")\n",
    "plt.ylabel (\"Calorie_Burnage\")\n",
    "\n",
    "plt.show()"
   ]
  },
  {
   "cell_type": "code",
   "execution_count": 47,
   "id": "da660f84",
   "metadata": {},
   "outputs": [
    {
     "name": "stderr",
     "output_type": "stream",
     "text": [
      "C:\\Users\\DP\\anaconda3\\Lib\\site-packages\\statsmodels\\stats\\stattools.py:74: ValueWarning: omni_normtest is not valid with less than 8 observations; 6 samples were given.\n",
      "  warn(\"omni_normtest is not valid with less than 8 observations; %i \"\n"
     ]
    },
    {
     "name": "stdout",
     "output_type": "stream",
     "text": [
      "                            OLS Regression Results                            \n",
      "==============================================================================\n",
      "Dep. Variable:        Calorie_Burnage   R-squared:                       0.091\n",
      "Model:                            OLS   Adj. R-squared:                 -0.136\n",
      "Method:                 Least Squares   F-statistic:                    0.4028\n",
      "Date:                Wed, 02 Oct 2024   Prob (F-statistic):              0.560\n",
      "Time:                        12:56:43   Log-Likelihood:                -3.2908\n",
      "No. Observations:                   6   AIC:                             10.58\n",
      "Df Residuals:                       4   BIC:                             10.17\n",
      "Df Model:                           1                                         \n",
      "Covariance Type:            nonrobust                                         \n",
      "=================================================================================\n",
      "                    coef    std err          t      P>|t|      [0.025      0.975]\n",
      "---------------------------------------------------------------------------------\n",
      "Intercept         0.4052      0.232      1.746      0.156      -0.239       1.049\n",
      "Average_Pulse    -0.2741      0.432     -0.635      0.560      -1.473       0.925\n",
      "==============================================================================\n",
      "Omnibus:                          nan   Durbin-Watson:                   2.139\n",
      "Prob(Omnibus):                    nan   Jarque-Bera (JB):                0.382\n",
      "Skew:                           0.061   Prob(JB):                        0.826\n",
      "Kurtosis:                       1.770   Cond. No.                         2.20\n",
      "==============================================================================\n",
      "\n",
      "Notes:\n",
      "[1] Standard Errors assume that the covariance matrix of the errors is correctly specified.\n"
     ]
    }
   ],
   "source": [
    "import statsmodels.formula.api as smf\n",
    "\n",
    "full_health_data = pd.read_csv(\"data.csv\", header=0, sep=\",\")\n",
    "\n",
    "model = smf.ols('Calorie_Burnage ~ Average_Pulse', data = full_health_data)\n",
    "results = model.fit()\n",
    "print(results.summary())"
   ]
  },
  {
   "cell_type": "code",
   "execution_count": 48,
   "id": "027c19a8",
   "metadata": {},
   "outputs": [
    {
     "name": "stdout",
     "output_type": "stream",
     "text": [
      "33.297200000000004\n",
      "36.0382\n",
      "41.5202\n",
      "49.7432\n"
     ]
    }
   ],
   "source": [
    "def Predict_Calorie_Burnage(Average_Pulse):\n",
    " return(0.2741 * Average_Pulse + 0.4052)\n",
    " \n",
    "#Try some different values:\n",
    "print(Predict_Calorie_Burnage(120))\n",
    "print(Predict_Calorie_Burnage(130))\n",
    "print(Predict_Calorie_Burnage(150))\n",
    "print(Predict_Calorie_Burnage(180))\n"
   ]
  },
  {
   "cell_type": "code",
   "execution_count": 52,
   "id": "83e35b7d",
   "metadata": {},
   "outputs": [
    {
     "name": "stdout",
     "output_type": "stream",
     "text": [
      "                            OLS Regression Results                            \n",
      "==============================================================================\n",
      "Dep. Variable:        Calorie_Burnage   R-squared:                       0.984\n",
      "Model:                            OLS   Adj. R-squared:                  0.974\n",
      "Method:                 Least Squares   F-statistic:                     93.22\n",
      "Date:                Wed, 02 Oct 2024   Prob (F-statistic):            0.00199\n",
      "Time:                        14:16:58   Log-Likelihood:                 8.8576\n",
      "No. Observations:                   6   AIC:                            -11.72\n",
      "Df Residuals:                       3   BIC:                            -12.34\n",
      "Df Model:                           2                                         \n",
      "Covariance Type:            nonrobust                                         \n",
      "=================================================================================\n",
      "                    coef    std err          t      P>|t|      [0.025      0.975]\n",
      "---------------------------------------------------------------------------------\n",
      "Intercept         0.0200      0.046      0.433      0.694      -0.127       0.167\n",
      "Average_Pulse     0.1987      0.075      2.642      0.078      -0.041       0.438\n",
      "Duration          0.9903      0.076     13.004      0.001       0.748       1.233\n",
      "==============================================================================\n",
      "Omnibus:                          nan   Durbin-Watson:                   1.006\n",
      "Prob(Omnibus):                    nan   Jarque-Bera (JB):                0.107\n",
      "Skew:                           0.180   Prob(JB):                        0.948\n",
      "Kurtosis:                       2.454   Cond. No.                         3.31\n",
      "==============================================================================\n",
      "\n",
      "Notes:\n",
      "[1] Standard Errors assume that the covariance matrix of the errors is correctly specified.\n"
     ]
    },
    {
     "name": "stderr",
     "output_type": "stream",
     "text": [
      "C:\\Users\\DP\\anaconda3\\Lib\\site-packages\\statsmodels\\stats\\stattools.py:74: ValueWarning: omni_normtest is not valid with less than 8 observations; 6 samples were given.\n",
      "  warn(\"omni_normtest is not valid with less than 8 observations; %i \"\n"
     ]
    }
   ],
   "source": [
    "full_health_data = pd.read_csv(\"data.csv\", header=0, sep=\",\")\n",
    "\n",
    "model = smf.ols('Calorie_Burnage ~ Average_Pulse + Duration', data = full_health_data)\n",
    "results = model.fit()\n",
    "print(results.summary())"
   ]
  },
  {
   "cell_type": "code",
   "execution_count": 53,
   "id": "7e7f2812",
   "metadata": {},
   "outputs": [
    {
     "name": "stdout",
     "output_type": "stream",
     "text": [
      "81.25500000000001\n",
      "72.36149999999999\n",
      "54.558499999999995\n"
     ]
    }
   ],
   "source": [
    "def Predict_Calorie_Burnage(Average_Pulse, Duration):\n",
    " return(0.1987*Average_Pulse + 0.9903 * Duration - 0.02)\n",
    "\n",
    "print(Predict_Calorie_Burnage(110,60))\n",
    "print(Predict_Calorie_Burnage(140,45))\n",
    "print(Predict_Calorie_Burnage(175,20))"
   ]
  },
  {
   "cell_type": "code",
   "execution_count": null,
   "id": "7fc4c469",
   "metadata": {},
   "outputs": [],
   "source": []
  }
 ],
 "metadata": {
  "kernelspec": {
   "display_name": "Python 3 (ipykernel)",
   "language": "python",
   "name": "python3"
  },
  "language_info": {
   "codemirror_mode": {
    "name": "ipython",
    "version": 3
   },
   "file_extension": ".py",
   "mimetype": "text/x-python",
   "name": "python",
   "nbconvert_exporter": "python",
   "pygments_lexer": "ipython3",
   "version": "3.11.5"
  }
 },
 "nbformat": 4,
 "nbformat_minor": 5
}
